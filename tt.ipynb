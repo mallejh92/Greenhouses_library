{
 "cells": [
  {
   "cell_type": "code",
   "execution_count": 43,
   "metadata": {},
   "outputs": [],
   "source": [
    "import pandas as pd\n",
    "import numpy as np\n",
    "from typing import Dict, List, Optional, Union, Tuple, Any\n",
    "from dataclasses import dataclass\n",
    "from Functions.WaterVapourPressure import WaterVapourPressure\n"
   ]
  },
  {
   "cell_type": "code",
   "execution_count": 49,
   "metadata": {},
   "outputs": [],
   "source": [
    "class CombiTimeTable:\n",
    "    \"\"\"\n",
    "    Modelica.Blocks.Sources.CombiTimeTable의 Python 구현\n",
    "    시간에 따른 데이터 테이블을 관리하고 보간을 수행하는 클래스\n",
    "    \"\"\"\n",
    "    def __init__(self, tableOnFile: bool = True, tableName: str = \"tab\", \n",
    "                 columns: Optional[List[int]] = None, fileName: Optional[str] = None):\n",
    "        \"\"\"\n",
    "        Args:\n",
    "            tableOnFile (bool): 파일에서 데이터를 로드할지 여부\n",
    "            tableName (str): 테이블 이름\n",
    "            columns (List[int], optional): 사용할 열 인덱스 목록\n",
    "            fileName (str, optional): 데이터 파일 경로\n",
    "        \"\"\"\n",
    "        self.tableOnFile = tableOnFile\n",
    "        self.tableName = tableName\n",
    "        self.columns = columns or list(range(1, 10))  # 기본값: 1-10 열\n",
    "        self.fileName = fileName\n",
    "        self.data = None\n",
    "        self.load_data()\n",
    "        \n",
    "    def load_data(self) -> None:\n",
    "        \"\"\"데이터 파일에서 테이블 데이터를 로드\"\"\"\n",
    "        if self.tableOnFile and self.fileName:\n",
    "            try:\n",
    "                # 데이터 파일 로드 (탭으로 구분된 텍스트 파일)\n",
    "                self.data = pd.read_csv(self.fileName, \n",
    "                                      delimiter=\"\\t\", \n",
    "                                      skiprows=2,  # 헤더 2줄 건너뛰기\n",
    "                                      names=['time'] + [f'col_{i}' for i in self.columns])\n",
    "            except Exception as e:\n",
    "                raise RuntimeError(f\"데이터 파일 로드 실패: {self.fileName}\") from e\n",
    "        else:\n",
    "            self.data = pd.DataFrame(columns=['time'] + [f'col_{i}' for i in self.columns])\n",
    "            \n",
    "    def get_value(self, time: float, interpolate: bool = False) -> Union[float, List[float]]:\n",
    "        \"\"\"\n",
    "        주어진 시간에 대한 데이터 값을 반환\n",
    "        \n",
    "        Args:\n",
    "            time (float): 조회할 시간\n",
    "            interpolate (bool): 선형 보간 사용 여부\n",
    "            \n",
    "        Returns:\n",
    "            Union[float, List[float]]: 단일 열인 경우 float, 여러 열인 경우 List[float]\n",
    "        \"\"\"\n",
    "        if self.data is None or len(self.data) == 0:\n",
    "            raise RuntimeError(\"데이터가 로드되지 않았습니다\")\n",
    "            \n",
    "        if time < self.data['time'].min() or time > self.data['time'].max():\n",
    "            raise ValueError(f\"시간 {time}이(가) 데이터 범위를 벗어났습니다\")\n",
    "            \n",
    "        if interpolate:\n",
    "            # 선형 보간 수행\n",
    "            result = []\n",
    "            for col in [f'col_{i}' for i in self.columns]:\n",
    "                value = np.interp(time, self.data['time'], self.data[col])\n",
    "                # nan 값 처리\n",
    "                if np.isnan(value):\n",
    "                    value = 0.0\n",
    "                result.append(value)\n",
    "        else:\n",
    "            # 가장 가까운 시간의 값을 반환\n",
    "            idx = (self.data['time'] - time).abs().idxmin()\n",
    "            result = []\n",
    "            for i in self.columns:\n",
    "                value = self.data.loc[idx, f'col_{i}']\n",
    "                # nan 값 처리\n",
    "                if np.isnan(value):\n",
    "                    value = 0.0\n",
    "                result.append(value)\n",
    "            \n",
    "        return result[0] if len(result) == 1 else result\n",
    "    \n",
    "    def _set_environmental_conditions(self, weather: List[float]) -> None:\n",
    "        \"\"\"\n",
    "        외부 환경 조건을 설정합니다.\n",
    "        \n",
    "        Args:\n",
    "            weather (List[float]): TMY_and_control 데이터 [0온도, 1습도, 2압력, 3일사량, 4풍속, 5하늘온도, 6온도설정값, 7CO2설정값, 8조명, 9추가값]\n",
    "        \"\"\"\n",
    "        \n",
    "        # 외부 온도 (Modelica: TMY_and_control.y[2])\n",
    "        self.Tout = weather[0]  # Celsius (col_1이 온도)\n",
    "             \n",
    "        # 하늘 온도 (Modelica: TMY_and_control.y[7])\n",
    "        self.Tsky = weather[5]  # Celsius (col_6이 하늘온도)\n",
    "        \n",
    "        # 풍속 [m/s] (Modelica: TMY_and_control.y[6])\n",
    "        self.u_wind = weather[4]  # col_5가 풍속\n",
    "        \n",
    "        # 일사량 [W/m²] (Modelica: TMY_and_control.y[5])\n",
    "        self.I_glob = weather[3]  # col_4가 일사량\n",
    "        \n",
    "        # 외부 수증기압 [Pa] (Modelica: TMY_and_control.y[2], TMY_and_control.y[3])\n",
    "        self.VPout = WaterVapourPressure().calculate(weather[0], weather[1])  # 온도, 습도\n",
    "        \n",
    "        # 조명 ON/OFF 신호 (Modelica: TMY_and_control.y[10])\n",
    "        self.OnOff = weather[8]  # col_9가 조명\n",
    "        \n",
    "        # 태양광 모델 업데이트\n",
    "        self.solar_model.I_glob = self.I_glob\n",
    "        \n",
    "        # 외부 CO2 농도 [mg/m³]\n",
    "        self.CO2out_ppm_to_mgm3 = 430 * 1.94  # 430 ppm을 mg/m³로 변환\n"
   ]
  },
  {
   "cell_type": "code",
   "execution_count": 50,
   "metadata": {},
   "outputs": [],
   "source": [
    "WEATHER_DATA_PATH = \"./10Dec-22Nov.txt\"\n",
    "SETPOINT_DATA_PATH = \"./SP_10Dec-22Nov.txt\"\n",
    "SCREEN_USABLE_PATH = \"./SC_usable_10Dec-22Nov.txt\"\n",
    "TMY_and_control = CombiTimeTable(\n",
    "            fileName=WEATHER_DATA_PATH,\n",
    "            columns=list(range(1, 10))  # 1번째부터 10번째 열까지\n",
    "        )\n",
    "SC_usable = CombiTimeTable(\n",
    "            fileName=SCREEN_USABLE_PATH,\n",
    "            columns=[1]  # 1번째, 2번째 열\n",
    "        )\n",
    "SP_new = CombiTimeTable(\n",
    "            fileName=SETPOINT_DATA_PATH,\n",
    "            columns=[1, 2]  # 1번째, 2번째, 3번째 열\n",
    "        )"
   ]
  },
  {
   "cell_type": "code",
   "execution_count": 51,
   "metadata": {},
   "outputs": [
    {
     "name": "stdout",
     "output_type": "stream",
     "text": [
      "          time  col_1  col_2   col_3  col_4  col_5     col_6  col_7  col_8  \\\n",
      "0            0    4.9     95  100700      0    3.0 -5.031436     16    800   \n",
      "1         3600    5.0     96  100700      0    3.5 -5.031436     16    800   \n",
      "2         7200    5.1     97  100600      0    4.0 -5.490152     16    800   \n",
      "3        10800    5.0     97  100700      0    2.0 -5.031436     16    800   \n",
      "4        14400    5.0     99  100700      0    1.0 -2.327377     16    800   \n",
      "...        ...    ...    ...     ...    ...    ...       ...    ...    ...   \n",
      "8275  29790000    4.5     90  100800      0    4.6 -3.219721     16    800   \n",
      "8276  29793600    4.5     90  100900      0    3.1 -3.219721     16    800   \n",
      "8277  29797200    4.4     90  100900      0    2.6 -3.444195     16    800   \n",
      "8278  29800800    4.3     92  100900      0    2.6 -3.444195     16    800   \n",
      "8279  29804400    4.3     93  100900      0    2.6 -4.802958     16    800   \n",
      "\n",
      "      col_9  \n",
      "0         0  \n",
      "1         0  \n",
      "2         0  \n",
      "3         0  \n",
      "4         0  \n",
      "...     ...  \n",
      "8275      1  \n",
      "8276      1  \n",
      "8277      1  \n",
      "8278      0  \n",
      "8279      0  \n",
      "\n",
      "[8280 rows x 10 columns]\n"
     ]
    }
   ],
   "source": [
    "print(TMY_and_control.data)"
   ]
  },
  {
   "cell_type": "code",
   "execution_count": 56,
   "metadata": {},
   "outputs": [],
   "source": [
    "time_idx = 1\n",
    "dt = 3600\n",
    "weather_data = TMY_and_control.get_value(time_idx * dt, interpolate=True)"
   ]
  },
  {
   "cell_type": "code",
   "execution_count": 57,
   "metadata": {},
   "outputs": [
    {
     "data": {
      "text/plain": [
       "[np.float64(5.0),\n",
       " np.float64(96.0),\n",
       " np.float64(100700.0),\n",
       " np.float64(0.0),\n",
       " np.float64(3.5),\n",
       " np.float64(-5.03143573),\n",
       " np.float64(16.0),\n",
       " np.float64(800.0),\n",
       " np.float64(0.0)]"
      ]
     },
     "execution_count": 57,
     "metadata": {},
     "output_type": "execute_result"
    }
   ],
   "source": [
    "weather_data"
   ]
  },
  {
   "cell_type": "code",
   "execution_count": null,
   "metadata": {},
   "outputs": [],
   "source": []
  }
 ],
 "metadata": {
  "kernelspec": {
   "display_name": "Python 3",
   "language": "python",
   "name": "python3"
  },
  "language_info": {
   "codemirror_mode": {
    "name": "ipython",
    "version": 3
   },
   "file_extension": ".py",
   "mimetype": "text/x-python",
   "name": "python",
   "nbconvert_exporter": "python",
   "pygments_lexer": "ipython3",
   "version": "3.9.7"
  }
 },
 "nbformat": 4,
 "nbformat_minor": 2
}
